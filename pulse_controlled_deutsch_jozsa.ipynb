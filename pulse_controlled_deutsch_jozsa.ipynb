{
  "nbformat": 4,
  "nbformat_minor": 0,
  "metadata": {
    "colab": {
      "provenance": []
    },
    "kernelspec": {
      "name": "python3",
      "display_name": "Python 3"
    },
    "language_info": {
      "name": "python"
    }
  },
  "cells": [
    {
      "cell_type": "code",
      "source": [
        "pip install pennylane"
      ],
      "metadata": {
        "colab": {
          "base_uri": "https://localhost:8080/"
        },
        "id": "XCyujebwRKSJ",
        "outputId": "7e08a9ce-1783-41ed-b40b-2149500a0287"
      },
      "execution_count": null,
      "outputs": [
        {
          "output_type": "stream",
          "name": "stdout",
          "text": [
            "Collecting pennylane\n",
            "  Downloading PennyLane-0.41.0-py3-none-any.whl.metadata (10 kB)\n",
            "Requirement already satisfied: numpy in /usr/local/lib/python3.11/dist-packages (from pennylane) (2.0.2)\n",
            "Requirement already satisfied: scipy in /usr/local/lib/python3.11/dist-packages (from pennylane) (1.14.1)\n",
            "Requirement already satisfied: networkx in /usr/local/lib/python3.11/dist-packages (from pennylane) (3.4.2)\n",
            "Collecting rustworkx>=0.14.0 (from pennylane)\n",
            "  Downloading rustworkx-0.16.0-cp39-abi3-manylinux_2_17_x86_64.manylinux2014_x86_64.whl.metadata (10 kB)\n",
            "Requirement already satisfied: autograd in /usr/local/lib/python3.11/dist-packages (from pennylane) (1.7.0)\n",
            "Collecting tomlkit (from pennylane)\n",
            "  Downloading tomlkit-0.13.2-py3-none-any.whl.metadata (2.7 kB)\n",
            "Collecting appdirs (from pennylane)\n",
            "  Downloading appdirs-1.4.4-py2.py3-none-any.whl.metadata (9.0 kB)\n",
            "Collecting autoray>=0.6.11 (from pennylane)\n",
            "  Downloading autoray-0.7.1-py3-none-any.whl.metadata (5.8 kB)\n",
            "Requirement already satisfied: cachetools in /usr/local/lib/python3.11/dist-packages (from pennylane) (5.5.2)\n",
            "Collecting pennylane-lightning>=0.41 (from pennylane)\n",
            "  Downloading pennylane_lightning-0.41.0-cp311-cp311-manylinux_2_28_x86_64.whl.metadata (28 kB)\n",
            "Requirement already satisfied: requests in /usr/local/lib/python3.11/dist-packages (from pennylane) (2.32.3)\n",
            "Requirement already satisfied: typing-extensions in /usr/local/lib/python3.11/dist-packages (from pennylane) (4.13.2)\n",
            "Requirement already satisfied: packaging in /usr/local/lib/python3.11/dist-packages (from pennylane) (24.2)\n",
            "Collecting diastatic-malt (from pennylane)\n",
            "  Downloading diastatic_malt-2.15.2-py3-none-any.whl.metadata (2.6 kB)\n",
            "Collecting scipy-openblas32>=0.3.26 (from pennylane-lightning>=0.41->pennylane)\n",
            "  Downloading scipy_openblas32-0.3.29.0.0-py3-none-manylinux_2_17_x86_64.manylinux2014_x86_64.whl.metadata (56 kB)\n",
            "\u001b[2K     \u001b[90m━━━━━━━━━━━━━━━━━━━━━━━━━━━━━━━━━━━━━━━━\u001b[0m \u001b[32m56.1/56.1 kB\u001b[0m \u001b[31m1.7 MB/s\u001b[0m eta \u001b[36m0:00:00\u001b[0m\n",
            "\u001b[?25hRequirement already satisfied: astunparse in /usr/local/lib/python3.11/dist-packages (from diastatic-malt->pennylane) (1.6.3)\n",
            "Requirement already satisfied: gast in /usr/local/lib/python3.11/dist-packages (from diastatic-malt->pennylane) (0.6.0)\n",
            "Requirement already satisfied: termcolor in /usr/local/lib/python3.11/dist-packages (from diastatic-malt->pennylane) (3.0.1)\n",
            "Requirement already satisfied: charset-normalizer<4,>=2 in /usr/local/lib/python3.11/dist-packages (from requests->pennylane) (3.4.1)\n",
            "Requirement already satisfied: idna<4,>=2.5 in /usr/local/lib/python3.11/dist-packages (from requests->pennylane) (3.10)\n",
            "Requirement already satisfied: urllib3<3,>=1.21.1 in /usr/local/lib/python3.11/dist-packages (from requests->pennylane) (2.3.0)\n",
            "Requirement already satisfied: certifi>=2017.4.17 in /usr/local/lib/python3.11/dist-packages (from requests->pennylane) (2025.1.31)\n",
            "Requirement already satisfied: wheel<1.0,>=0.23.0 in /usr/local/lib/python3.11/dist-packages (from astunparse->diastatic-malt->pennylane) (0.45.1)\n",
            "Requirement already satisfied: six<2.0,>=1.6.1 in /usr/local/lib/python3.11/dist-packages (from astunparse->diastatic-malt->pennylane) (1.17.0)\n",
            "Downloading PennyLane-0.41.0-py3-none-any.whl (2.3 MB)\n",
            "\u001b[2K   \u001b[90m━━━━━━━━━━━━━━━━━━━━━━━━━━━━━━━━━━━━━━━━\u001b[0m \u001b[32m2.3/2.3 MB\u001b[0m \u001b[31m29.2 MB/s\u001b[0m eta \u001b[36m0:00:00\u001b[0m\n",
            "\u001b[?25hDownloading autoray-0.7.1-py3-none-any.whl (930 kB)\n",
            "\u001b[2K   \u001b[90m━━━━━━━━━━━━━━━━━━━━━━━━━━━━━━━━━━━━━━━━\u001b[0m \u001b[32m930.8/930.8 kB\u001b[0m \u001b[31m26.6 MB/s\u001b[0m eta \u001b[36m0:00:00\u001b[0m\n",
            "\u001b[?25hDownloading pennylane_lightning-0.41.0-cp311-cp311-manylinux_2_28_x86_64.whl (2.5 MB)\n",
            "\u001b[2K   \u001b[90m━━━━━━━━━━━━━━━━━━━━━━━━━━━━━━━━━━━━━━━━\u001b[0m \u001b[32m2.5/2.5 MB\u001b[0m \u001b[31m53.2 MB/s\u001b[0m eta \u001b[36m0:00:00\u001b[0m\n",
            "\u001b[?25hDownloading rustworkx-0.16.0-cp39-abi3-manylinux_2_17_x86_64.manylinux2014_x86_64.whl (2.1 MB)\n",
            "\u001b[2K   \u001b[90m━━━━━━━━━━━━━━━━━━━━━━━━━━━━━━━━━━━━━━━━\u001b[0m \u001b[32m2.1/2.1 MB\u001b[0m \u001b[31m57.2 MB/s\u001b[0m eta \u001b[36m0:00:00\u001b[0m\n",
            "\u001b[?25hDownloading appdirs-1.4.4-py2.py3-none-any.whl (9.6 kB)\n",
            "Downloading diastatic_malt-2.15.2-py3-none-any.whl (167 kB)\n",
            "\u001b[2K   \u001b[90m━━━━━━━━━━━━━━━━━━━━━━━━━━━━━━━━━━━━━━━━\u001b[0m \u001b[32m167.9/167.9 kB\u001b[0m \u001b[31m9.0 MB/s\u001b[0m eta \u001b[36m0:00:00\u001b[0m\n",
            "\u001b[?25hDownloading tomlkit-0.13.2-py3-none-any.whl (37 kB)\n",
            "Downloading scipy_openblas32-0.3.29.0.0-py3-none-manylinux_2_17_x86_64.manylinux2014_x86_64.whl (8.6 MB)\n",
            "\u001b[2K   \u001b[90m━━━━━━━━━━━━━━━━━━━━━━━━━━━━━━━━━━━━━━━━\u001b[0m \u001b[32m8.6/8.6 MB\u001b[0m \u001b[31m65.1 MB/s\u001b[0m eta \u001b[36m0:00:00\u001b[0m\n",
            "\u001b[?25hInstalling collected packages: appdirs, tomlkit, scipy-openblas32, rustworkx, autoray, diastatic-malt, pennylane-lightning, pennylane\n",
            "Successfully installed appdirs-1.4.4 autoray-0.7.1 diastatic-malt-2.15.2 pennylane-0.41.0 pennylane-lightning-0.41.0 rustworkx-0.16.0 scipy-openblas32-0.3.29.0.0 tomlkit-0.13.2\n"
          ]
        }
      ]
    },
    {
      "cell_type": "code",
      "execution_count": null,
      "metadata": {
        "id": "tiFXyAsnQ8p4"
      },
      "outputs": [],
      "source": [
        "import pennylane as qml\n",
        "import jax.numpy as jnp\n",
        "import jax\n",
        "\n",
        "# Enable JAX 64-bit precision (required for pulse-level control)\n",
        "jax.config.update(\"jax_enable_x64\", True)\n"
      ]
    },
    {
      "cell_type": "code",
      "source": [
        "# Define 2-qubit device\n",
        "num_qubits = 2\n",
        "dev = qml.device(\"default.mixed\", wires=range(num_qubits))\n",
        "\n",
        "# Define qubit frequencies (in GHz, matching the red laser frequency)\n",
        "qubit_freq = [5.0, 5.1]  # Example frequencies\n",
        "\n",
        "# Create base Hamiltonian for our system\n",
        "# The connections list specifies qubit couplings\n",
        "connections = [(0, 1)]  # Connection between qubits 0 and 1\n",
        "coupling = [0.01]       # Coupling strength of 10 MHz\n",
        "\n",
        "# Base Hamiltonian representing the system dynamics\n",
        "H0 = qml.pulse.transmon_interaction(\n",
        "    qubit_freq=qubit_freq,\n",
        "    connections=connections,\n",
        "    coupling=coupling,\n",
        "    wires=range(num_qubits)\n",
        ")\n",
        "\n",
        "# Polarizing filter implementation\n",
        "# Create drive Hamiltonians (analogous to the polarizing filter in the diagram)\n",
        "duration = 15  # Duration of the pulse in nanoseconds\n",
        "\n",
        "def polarizing_filter(p, t):\n",
        "    # Ensure parameter is always an array, not a scalar\n",
        "    p_array = jnp.atleast_1d(p)\n",
        "    return qml.pulse.pwc(duration)(p_array, t)\n",
        "\n",
        "# Drive Hamiltonian for qubit 0 - analogous to laser through polarizing filter\n",
        "H_drive0 = qml.pulse.transmon_drive(\n",
        "    amplitude=polarizing_filter,\n",
        "    phase=0,\n",
        "    freq=qubit_freq[0],\n",
        "    wires=[0]\n",
        ")\n"
      ],
      "metadata": {
        "id": "90mKLYm3RS3U"
      },
      "execution_count": null,
      "outputs": []
    },
    {
      "cell_type": "code",
      "source": [
        "# Half waveplate with 90-degree rotation implementation\n",
        "def half_waveplate_rotation(p, t):\n",
        "    # Ensure parameter is always an array, not a scalar\n",
        "    p_array = jnp.atleast_1d(p)\n",
        "    return qml.pulse.pwc(duration)(p_array, t)\n",
        "\n",
        "# Create drive Hamiltonian for the computational stage\n",
        "H_compute0 = qml.pulse.transmon_drive(\n",
        "    amplitude=half_waveplate_rotation,\n",
        "    phase=jnp.pi/2,  # 90-degree phase for rotation\n",
        "    freq=qubit_freq[0],\n",
        "    wires=[0]\n",
        ")\n",
        "\n",
        "# For the Deutsch-Jozsa algorithm, we need an interaction between qubits\n",
        "# This implements the oracle part shown in the diagram\n",
        "def interaction_pulse(p, t):\n",
        "    # Ensure parameter is always an array, not a scalar\n",
        "    p_array = jnp.atleast_1d(p)\n",
        "    return qml.pulse.pwc(duration)(p_array, t)\n",
        "\n",
        "H_interaction = qml.pulse.transmon_drive(\n",
        "    amplitude=interaction_pulse,\n",
        "    phase=0,\n",
        "    freq=(qubit_freq[0] + qubit_freq[1])/2,  # Intermediate frequency\n",
        "    wires=[0, 1]\n",
        ")\n"
      ],
      "metadata": {
        "id": "buw0Rm5cRVoV"
      },
      "execution_count": null,
      "outputs": []
    },
    {
      "cell_type": "code",
      "source": [
        "# Define the complete quantum circuit with all three stages\n",
        "@qml.qnode(dev, interface='jax')\n",
        "def deutsch_jozsa_circuit(params_prep, params_compute, params_interact, t_total):\n",
        "    # State preparation (laser + polarizing filter)\n",
        "    qml.evolve(H0 + H_drive0)(params_prep, t=duration)\n",
        "\n",
        "    # Computation (half waveplate with 90-degree rotation)\n",
        "    qml.evolve(H0 + H_compute0)(params_compute, t=duration)\n",
        "\n",
        "    # Interaction for the oracle functionality\n",
        "    qml.evolve(H0 + H_interaction)(params_interact, t=duration)\n",
        "\n",
        "    # Measurement of both qubits (corresponds to the detector in the diagram)\n",
        "    return [qml.expval(qml.PauliZ(i)) for i in range(num_qubits)]\n"
      ],
      "metadata": {
        "id": "IR8xo8CiRX7Q"
      },
      "execution_count": null,
      "outputs": []
    },
    {
      "cell_type": "code",
      "source": [
        "# Define noise parameters\n",
        "t1 = [50000, 50000]  # T1 relaxation times in ns\n",
        "t2 = [30000, 30000]  # T2 dephasing times in ns\n",
        "\n",
        "# Create noisy device\n",
        "dev_noisy = qml.device(\"default.mixed\", wires=range(num_qubits))\n",
        "\n",
        "\n",
        "# Define the noisy circuit\n",
        "@qml.qnode(dev_noisy, interface='jax')\n",
        "def noisy_deutsch_jozsa_circuit(params_prep, params_compute, params_interact, t_total):\n",
        "    # State preparation with polarizing filter\n",
        "    qml.evolve(H0 + H_drive0)(params_prep, t=duration)\n",
        "\n",
        "    # Apply noise channels after state preparation\n",
        "    for i in range(num_qubits):\n",
        "        qml.AmplitudeDamping(duration / t1[i], wires=i)\n",
        "        qml.PhaseDamping(duration / t2[i], wires=i)\n",
        "\n",
        "    # Computation with half waveplate\n",
        "    qml.evolve(H0 + H_compute0)(params_compute, t=duration)\n",
        "\n",
        "    # Apply noise after computation\n",
        "    for i in range(num_qubits):\n",
        "        qml.AmplitudeDamping(duration / t1[i], wires=i)\n",
        "        qml.PhaseDamping(duration / t2[i], wires=i)\n",
        "\n",
        "    # Interaction for oracle functionality\n",
        "    qml.evolve(H0 + H_interaction)(params_interact, t=duration)\n",
        "\n",
        "    # Apply noise after interaction\n",
        "    for i in range(num_qubits):\n",
        "        qml.AmplitudeDamping(duration / t1[i], wires=i)\n",
        "        qml.PhaseDamping(duration / t2[i], wires=i)\n",
        "\n",
        "    return [qml.expval(qml.PauliZ(i)) for i in range(num_qubits)]\n"
      ],
      "metadata": {
        "id": "Jq5ug778RacM"
      },
      "execution_count": null,
      "outputs": []
    },
    {
      "cell_type": "code",
      "source": [
        "# Initialize parameters for each stage with requires_grad=True\n",
        "params_prep = jnp.array([0.5])       # Amplitude for state preparation\n",
        "params_compute = jnp.array([0.3])    # Amplitude for computation\n",
        "params_interact = jnp.array([0.2])   # Amplitude for interaction (oracle)\n",
        "# Total evolution time\n",
        "t_total = 3 * duration\n",
        "\n",
        "# Execute the circuit\n",
        "result = noisy_deutsch_jozsa_circuit(params_prep, params_compute, params_interact, t_total)\n",
        "print(\"Measurement results:\", result)\n"
      ],
      "metadata": {
        "colab": {
          "base_uri": "https://localhost:8080/"
        },
        "id": "3tHMB--qRd96",
        "outputId": "3e479ef2-fc9d-49aa-95e8-3e3d5e6324c2"
      },
      "execution_count": null,
      "outputs": [
        {
          "output_type": "stream",
          "name": "stdout",
          "text": [
            "Measurement results: [Array(0.89973854, dtype=float64), Array(0.55995379, dtype=float64)]\n"
          ]
        }
      ]
    },
    {
      "cell_type": "code",
      "source": [
        "# Define cost function based on desired output\n",
        "def cost(params):\n",
        "    params_prep, params_compute, params_interact = params\n",
        "    result = noisy_deutsch_jozsa_circuit(params_prep, params_compute, params_interact, t_total)\n",
        "    # For Deutsch-Jozsa, we want qubit 0 to be -1 for balanced function\n",
        "    return ((result[0] + 1)**2)  # Cost is 0 when result[0] = -1\n",
        "\n",
        "# Initial parameters\n",
        "init_params = [jnp.array([0.5]), jnp.array([0.3]), jnp.array([0.2])]\n",
        "\n",
        "# Optimize using gradient descent\n",
        "opt = qml.GradientDescentOptimizer(stepsize=0.1)\n",
        "params = init_params\n",
        "\n",
        "for i in range(20):\n",
        "    params = opt.step(cost, params)\n",
        "    if i % 5 == 0:\n",
        "        print(f\"Step {i}: cost = {cost(params):.6f}\")\n"
      ],
      "metadata": {
        "colab": {
          "base_uri": "https://localhost:8080/"
        },
        "id": "huX6zi3GRlRx",
        "outputId": "acd9c9d2-4d4c-4ff1-9e38-171ecc50dda8"
      },
      "execution_count": null,
      "outputs": [
        {
          "output_type": "stream",
          "name": "stderr",
          "text": [
            "/usr/local/lib/python3.11/dist-packages/pennylane/_grad.py:216: UserWarning: Attempted to differentiate a function with no trainable parameters. If this is unintended, please add trainable parameters via the 'requires_grad' attribute or 'argnum' keyword.\n",
            "  warnings.warn(\n"
          ]
        },
        {
          "output_type": "stream",
          "name": "stdout",
          "text": [
            "Step 0: cost = 3.609007\n",
            "Step 5: cost = 3.609007\n",
            "Step 10: cost = 3.609007\n",
            "Step 15: cost = 3.609007\n"
          ]
        }
      ]
    }
  ]
}